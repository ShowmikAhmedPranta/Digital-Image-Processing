{
  "nbformat": 4,
  "nbformat_minor": 0,
  "metadata": {
    "colab": {
      "provenance": []
    },
    "kernelspec": {
      "name": "python3",
      "display_name": "Python 3"
    },
    "language_info": {
      "name": "python"
    }
  },
  "cells": [
    {
      "cell_type": "code",
      "execution_count": 1,
      "metadata": {
        "id": "B_JCwEpbXFEY"
      },
      "outputs": [],
      "source": [
        "#Roll: 1703139\n",
        "#Name: Showmik Ahmed Pranta\n",
        "#LAB-9: Morphological Operations\n",
        "\n",
        "import numpy as np\n",
        "import cv2\n",
        "from google.colab.patches import cv2_imshow\n",
        "import matplotlib.pyplot as plt\n",
        "from matplotlib import style"
      ]
    },
    {
      "cell_type": "code",
      "source": [
        "img=cv2.imread('download.jpeg',0)\n",
        "#print('Input')\n",
        "#cv2_imshow(img)\n",
        "#print(img.shape)\n",
        "h,w=img.shape\n",
        "hist=[]\n",
        "for x in range(0,256):\n",
        "  hist.append(0)\n",
        "\n",
        "for x in range(h):\n",
        "  for y in range(w):\n",
        "    val=img[x][y]\n",
        "    hist[val]+=1\n",
        "\n",
        "#print(hist)\n",
        "\n",
        "t=np.arange(0,256,1)\n",
        "\"\"\"\n",
        "print(\"Histogram:\")\n",
        "plt.plot(t,hist)\n",
        "plt.show()\n",
        "\"\"\"\n",
        "thres=150\n",
        "for x in range(h):\n",
        "  for y in range(w):\n",
        "    if img[x][y]>thres:\n",
        "      img[x][y]=255\n",
        "    else:\n",
        "      img[x][y]=0\n",
        "\n",
        "#print('Output by threshold:')\n",
        "#cv2_imshow(img)"
      ],
      "metadata": {
        "id": "c2gQlcbGXiBC"
      },
      "execution_count": 2,
      "outputs": []
    },
    {
      "cell_type": "code",
      "source": [
        "#                                task1\n",
        "#                               Erosion\n",
        "\n",
        "img=cv2.imread('download.jpeg',0)\n",
        "cv2_imshow(img)\n",
        "#print(img.shape)\n",
        "h,w=img.shape\n",
        "nh=h+100\n",
        "nw=w+100\n",
        "\n",
        "padded_img=a = np.zeros([nh, nw], dtype = int)\n",
        "\n",
        "for x in range(1,h,1):\n",
        "  for y in range(1,w,1):\n",
        "     padded_img[x][y]=img[x][y]\n",
        "\n",
        "img_c=img.copy()\n",
        "for x in range(1,h,1):\n",
        "  for y in range(1,w,1):\n",
        "    val=0\n",
        "    flag=0\n",
        "    for i in range(x-2,x+3):\n",
        "      for j in range(y-2,y+3):\n",
        "        if(padded_img[i][j]<=100):\n",
        "          flag=1\n",
        "          #img_c[x][y]=255\n",
        "        \n",
        "      if(flag):\n",
        "        img_c[x][y]=0\n",
        "        #flag=0\n",
        "      else:\n",
        "        img_c[x][y]=255\n",
        "        #flag=0\n",
        "\n",
        "#print(padded_img)\n",
        "#print(\"Average filtering:\")\n",
        "#cv2_imshow(padded_img)\n",
        "#cv2_imshow(255-padded_img)\n",
        "cv2_imshow(img_c)"
      ],
      "metadata": {
        "colab": {
          "base_uri": "https://localhost:8080/",
          "height": 467
        },
        "id": "kPglc4olXqJ8",
        "outputId": "6c6bbdff-1577-4ce0-eb75-7b01c4f0903f"
      },
      "execution_count": 3,
      "outputs": [
        {
          "output_type": "display_data",
          "data": {
            "text/plain": [
              "<PIL.Image.Image image mode=L size=225x225 at 0x7F44113D9650>"
            ],
            "image/png": "[encoded data removed]"
          },
          "metadata": {}
        },
        {
          "output_type": "display_data",
          "data": {
            "text/plain": [
              "<PIL.Image.Image image mode=L size=225x225 at 0x7F44211C0950>"
            ],
            "image/png": "[encoded data removed]"
          },
          "metadata": {}
        }
      ]
    },
    {
      "cell_type": "code",
      "source": [
        "#                                            task2\n",
        "#                                          dilation\n",
        "img=cv2.imread('download.jpeg',0)\n",
        "#print('Input')\n",
        "cv2_imshow(img)\n",
        "#print(img.shape)\n",
        "h,w=img.shape\n",
        "hist=[]\n",
        "for x in range(0,256):\n",
        "  hist.append(0)\n",
        "\n",
        "for x in range(h):\n",
        "  for y in range(w):\n",
        "    val=img[x][y]\n",
        "    hist[val]+=1\n",
        "\n",
        "#print(hist)\n",
        "\n",
        "t=np.arange(0,256,1)\n",
        "\"\"\"\n",
        "print(\"Histogram:\")\n",
        "plt.plot(t,hist)\n",
        "plt.show()\n",
        "\"\"\"\n",
        "thres=150\n",
        "for x in range(h):\n",
        "  for y in range(w):\n",
        "    if img[x][y]>thres:\n",
        "      img[x][y]=255\n",
        "    else:\n",
        "      img[x][y]=0\n",
        "\n",
        "#print('Output by threshold:')\n",
        "#cv2_imshow(img)\n",
        "#task3\n",
        "#img=cv2.imread('download.jpeg',0)\n",
        "#cv2_imshow(img)\n",
        "#print(img.shape)\n",
        "h,w=img.shape\n",
        "nh=h+100\n",
        "nw=w+100\n",
        "\n",
        "padded_img=a = np.zeros([nh, nw], dtype = int)\n",
        "\n",
        "for x in range(1,h,1):\n",
        "  for y in range(1,w,1):\n",
        "     padded_img[x][y]=img[x][y]\n",
        "\n",
        "img_c=img\n",
        "for x in range(1,h,1):\n",
        "  for y in range(1,w,1):\n",
        "    val=0\n",
        "    flag=0\n",
        "    for i in range(x-10,x+11):\n",
        "      for j in range(y-10,y+11):\n",
        "        if(padded_img[i][j]<=10):\n",
        "          #flag=1\n",
        "          img_c[x][y]=0\n",
        "        \n",
        "#    if(flag):\n",
        "#      padded_img[x][y]=255\n",
        "      #flag=0\n",
        "#    else:\n",
        "#      padded_img[x][y]=0\n",
        "#      #flag=0\n",
        "\n",
        "#print(padded_img)\n",
        "#print(\"Average filtering:\")\n",
        "#cv2_imshow(padded_img)\n",
        "#cv2_imshow(255-padded_img)\n",
        "cv2_imshow(img_c)"
      ],
      "metadata": {
        "colab": {
          "base_uri": "https://localhost:8080/",
          "height": 467
        },
        "id": "JVLhbnB3YMLc",
        "outputId": "d227d95b-cdbb-4895-9be0-435fa8c08bd8"
      },
      "execution_count": 4,
      "outputs": [
        {
          "output_type": "display_data",
          "data": {
            "text/plain": [
              "<PIL.Image.Image image mode=L size=225x225 at 0x7F4411305650>"
            ],
            "image/png": "[encoded data removed]"
          },
          "metadata": {}
        },
        {
          "output_type": "display_data",
          "data": {
            "text/plain": [
              "<PIL.Image.Image image mode=L size=225x225 at 0x7F4411305A90>"
            ],
            "image/png": "[encoded data removed]"
          },
          "metadata": {}
        }
      ]
    }
  ]
}